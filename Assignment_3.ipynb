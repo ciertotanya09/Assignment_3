{
 "cells": [
  {
   "cell_type": "code",
   "execution_count": 1,
   "metadata": {},
   "outputs": [],
   "source": [
    "import numpy as ny"
   ]
  },
  {
   "cell_type": "raw",
   "metadata": {},
   "source": [
    "Create a numpy array starting from 2 till 50 with a stepsize of 3."
   ]
  },
  {
   "cell_type": "code",
   "execution_count": 2,
   "metadata": {},
   "outputs": [
    {
     "name": "stdout",
     "output_type": "stream",
     "text": [
      "[ 2  5  8 11 14 17 20 23 26 29 32 35 38 41 44 47]\n"
     ]
    }
   ],
   "source": [
    "print(ny.arange(2,50,3))"
   ]
  },
  {
   "cell_type": "raw",
   "metadata": {},
   "source": [
    "Accept two lists of 5 elements each from the user.\n",
    "Convert them to numpy arrays. Concatenate these arrays and print it. Also sort these arrays and print it."
   ]
  },
  {
   "cell_type": "code",
   "execution_count": 3,
   "metadata": {},
   "outputs": [
    {
     "name": "stdout",
     "output_type": "stream",
     "text": [
      "2\n",
      "3\n",
      "5\n",
      "1\n",
      "8\n",
      "4\n",
      "7\n",
      "7\n",
      "6\n",
      "9\n",
      "[2 3 5 1 8 4 7 7 6 9]\n",
      "[1 2 3 4 5 6 7 7 8 9]\n"
     ]
    }
   ],
   "source": [
    " l1=[]\n",
    "l2=[]\n",
    "for i in range (0,5):\n",
    "    ele=int(input())\n",
    "    l1.append(ele)\n",
    "for i in range (0,5):\n",
    "    ele=int(input())\n",
    "    l2.append(ele)   \n",
    "a= ny.array(l1)\n",
    "b=ny.array(l2)\n",
    "\n",
    "arr = ny.concatenate((a, b))\n",
    "print(arr)\n",
    "c=ny.sort(arr)\n",
    "print(c)"
   ]
  },
  {
   "cell_type": "raw",
   "metadata": {},
   "source": [
    "Write a code snippet to find the dimensions of a ndarray and its size."
   ]
  },
  {
   "cell_type": "code",
   "execution_count": 4,
   "metadata": {},
   "outputs": [
    {
     "name": "stdout",
     "output_type": "stream",
     "text": [
      "[[1 2 3 4 5 6 7 8]\n",
      " [2 3 4 5 6 7 8 9]]\n",
      "(2, 8)\n"
     ]
    }
   ],
   "source": [
    "a = ny.array([[1,2,3,4,5,6,7,8],[2,3,4,5,6,7,8,9]])\n",
    "print(a)\n",
    "print(a.shape)"
   ]
  },
  {
   "cell_type": "markdown",
   "metadata": {},
   "source": [
    "this means that the array contains 8 elements and has dimension 2"
   ]
  },
  {
   "cell_type": "raw",
   "metadata": {},
   "source": [
    "How to convert a 1D array into a 2D array? Demonstrate with the help of a code snippet\n",
    "Hint: np.newaxis, np.expand_dims"
   ]
  },
  {
   "cell_type": "code",
   "execution_count": 5,
   "metadata": {},
   "outputs": [
    {
     "name": "stdout",
     "output_type": "stream",
     "text": [
      "[[ 1  2  3  4  5]\n",
      " [ 6  7  8  9 10]]\n"
     ]
    }
   ],
   "source": [
    "a=ny.array([1,2,3,4,5,6,7,8,9,10])\n",
    "b=a.reshape(2,5)\n",
    "print(b)"
   ]
  },
  {
   "cell_type": "raw",
   "metadata": {},
   "source": [
    "Consider two square numpy arrays. Stack them vertically and horizontally.\n",
    "Hint: Use vstack(), hstack()"
   ]
  },
  {
   "cell_type": "code",
   "execution_count": 6,
   "metadata": {},
   "outputs": [
    {
     "name": "stdout",
     "output_type": "stream",
     "text": [
      "[[1 2 6]\n",
      " [3 4 5]\n",
      " [7 8 9]\n",
      " [4 2 7]]\n",
      "[[1 2 6 7 8 9]\n",
      " [3 4 5 4 2 7]]\n"
     ]
    }
   ],
   "source": [
    "a=ny.array([[1,2,6],[3,4,5]])\n",
    "b=ny.array([[7,8,9],[4,2,7]])\n",
    "e=ny.vstack((a,b))\n",
    "f=ny.hstack((a,b))\n",
    "print(e)\n",
    "print(f)"
   ]
  },
  {
   "cell_type": "raw",
   "metadata": {},
   "source": [
    "How to get unique items and counts of unique items?"
   ]
  },
  {
   "cell_type": "code",
   "execution_count": 7,
   "metadata": {},
   "outputs": [
    {
     "name": "stdout",
     "output_type": "stream",
     "text": [
      "[[1 1]\n",
      " [2 2]\n",
      " [3 2]\n",
      " [4 2]\n",
      " [5 2]\n",
      " [6 2]\n",
      " [7 2]\n",
      " [8 1]\n",
      " [9 1]]\n"
     ]
    }
   ],
   "source": [
    "a=ny.array([1,2,4,6,3,5,7,8,4,9,7,6,5,3,2])\n",
    "unique,counts=ny.unique(a,return_counts=True)\n",
    "a=ny.asarray((unique,counts)).T\n",
    "print(a)"
   ]
  }
 ],
 "metadata": {
  "kernelspec": {
   "display_name": "Python 3",
   "language": "python",
   "name": "python3"
  },
  "language_info": {
   "codemirror_mode": {
    "name": "ipython",
    "version": 3
   },
   "file_extension": ".py",
   "mimetype": "text/x-python",
   "name": "python",
   "nbconvert_exporter": "python",
   "pygments_lexer": "ipython3",
   "version": "3.8.3"
  }
 },
 "nbformat": 4,
 "nbformat_minor": 4
}
